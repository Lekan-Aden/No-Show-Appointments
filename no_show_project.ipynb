{
 "cells": [
  {
   "cell_type": "markdown",
   "id": "1711a500",
   "metadata": {},
   "source": [
    "# Investigation of \"No Show\" Appointments Dataset\n",
    "\n",
    "<strong><i>By: Olamilekan Adenusi</i></strong>\n",
    "\n",
    "*May 28, 2022*\n",
    "## Table of Contents\n",
    "<ul>\n",
    "    <li><a href='#intro'>Introduction</a></li>\n",
    "    <li><a href='#wrangling'>Data Wrangling</a></li>\n",
    "    <li><a href='#eda'>Exploratory Data Analysis</a></li>\n",
    "    <li><a href='#conclusions'>Conclusions</a></li>\n",
    "</ul>"
   ]
  },
  {
   "cell_type": "markdown",
   "id": "4a369e90",
   "metadata": {},
   "source": [
    "<a id='intro'></a>\n",
    "# Introduction"
   ]
  },
  {
   "cell_type": "markdown",
   "id": "7c145af3",
   "metadata": {},
   "source": [
    "In partial fulfillment of the requirements for passing the ALX-T Udacity Data Analyst course, this project has been undertaken. The aim of this project is to dive into a specific dataset with questions hoping to be answered by the end of the analysis. \n",
    "\n",
    "Medical appointments are being scheduled everyday but how do we determine those who show up for their appointments? Are there certain factors in this data that determine whether a patient shows up or not? For instance, are males more likely to miss their appointments than females? Does the appointment day have an effect on who shows up or not? Are older patients more committed to their medical schedules than younger ones? Are older patients at more risk of having a specific health problem? Let the data speak for itself! \n",
    "\n",
    "The dataset used in this analysis contains information about over 100,000 medical appointments in Brazil, focusing on whether patients **showed up or not** for their appointments. "
   ]
  },
  {
   "cell_type": "markdown",
   "id": "689da058",
   "metadata": {},
   "source": [
    "## Packages\n",
    "The packages used in this analysis include:\n",
    "1. <strong>pandas</strong> to read in the data/for data manipulation\n",
    "2. <strong>numpy</strong> for working with arrays\n",
    "3. <strong>matplotlib</strong> and <strong>seaborn</strong> for data visualization\n",
    "\n",
    "These packages are now loaded below. "
   ]
  },
  {
   "cell_type": "code",
   "execution_count": 1,
   "id": "bbcf6ac6",
   "metadata": {},
   "outputs": [],
   "source": [
    "# Render visualizations in the notebook\n",
    "%matplotlib inline\n",
    "\n",
    "import pandas as pd\n",
    "import numpy as np\n",
    "import matplotlib.pyplot as plt\n",
    "import seaborn as sns"
   ]
  },
  {
   "cell_type": "code",
   "execution_count": null,
   "id": "5bdcdf88",
   "metadata": {},
   "outputs": [],
   "source": [
    "plt.style.use('seaborn')"
   ]
  },
  {
   "cell_type": "markdown",
   "id": "e7ff175d",
   "metadata": {},
   "source": [
    "<a id='wrangling'></a>\n",
    "# Data Wrangling\n",
    "This part is broken into three sections, namely, **data import** where the data is loaded and previewed and **data cleaning** where the data will be cleaned/trimmed for analysis. "
   ]
  },
  {
   "cell_type": "markdown",
   "id": "73da725f",
   "metadata": {},
   "source": [
    "## I. Data Import and Preview\n",
    "In this section, we will load the data and preview it to get a picture of what we are dealing with. Originally, this dataset can be obtained from [kaggle](https://www.google.com/url?q=https://www.kaggle.com/joniarroba/noshowappointments&sa=D&ust=1532469042118000). In this work, however it was directly downloaded via this [link](https://www.google.com/url?q=https://d17h27t6h515a5.cloudfront.net/topher/2017/October/59dd2e9a_noshowappointments-kagglev2-may-2016/noshowappointments-kagglev2-may-2016.csv&sa=D&ust=1532469042118000). We will first load the data into a dataframe `df` using `pandas`. Then we will display summary about the data."
   ]
  },
  {
   "cell_type": "markdown",
   "id": "63f2ee9d",
   "metadata": {},
   "source": [
    "Although the column names are explanatory, it helps to still provide context. Below is some data description:\n",
    "- **PatientId** and **AppointmentID** identify the patient and the appointment respectively. \n",
    "- **ScheduledDay** is the day someone made an appointment while **AppointmentDay** is the day of actual appointment.\n",
    "- The columns **Scholarship, Hipertension, Alcoholism,  Diabetes, and SMS_received** all represent boolean values.\n",
    "- **No-show** is a categorical column indicating whether a patient showed up (No) or not (Yes). This might be a bit weird to process at first, so in this work, the column shall be renamed to **Show** and its values changed so that Yes indicates a patient showed up while No indicates they didn't. "
   ]
  },
  {
   "cell_type": "code",
   "execution_count": 2,
   "id": "00b56d03",
   "metadata": {},
   "outputs": [
    {
     "name": "stdout",
     "output_type": "stream",
     "text": [
      "There are 110527 instances and 14 fields in the data\n"
     ]
    }
   ],
   "source": [
    "# Load csv file\n",
    "df = pd.read_csv('noshowappointments-kagglev2-may-2016.csv')\n",
    "print('There are {} instances and {} fields in the data'.format(*df.shape))"
   ]
  },
  {
   "cell_type": "code",
   "execution_count": 3,
   "id": "11e0c506",
   "metadata": {},
   "outputs": [
    {
     "name": "stdout",
     "output_type": "stream",
     "text": [
      "<class 'pandas.core.frame.DataFrame'>\n",
      "RangeIndex: 110527 entries, 0 to 110526\n",
      "Data columns (total 14 columns):\n",
      " #   Column          Non-Null Count   Dtype  \n",
      "---  ------          --------------   -----  \n",
      " 0   PatientId       110527 non-null  float64\n",
      " 1   AppointmentID   110527 non-null  int64  \n",
      " 2   Gender          110527 non-null  object \n",
      " 3   ScheduledDay    110527 non-null  object \n",
      " 4   AppointmentDay  110527 non-null  object \n",
      " 5   Age             110527 non-null  int64  \n",
      " 6   Neighbourhood   110527 non-null  object \n",
      " 7   Scholarship     110527 non-null  int64  \n",
      " 8   Hipertension    110527 non-null  int64  \n",
      " 9   Diabetes        110527 non-null  int64  \n",
      " 10  Alcoholism      110527 non-null  int64  \n",
      " 11  Handcap         110527 non-null  int64  \n",
      " 12  SMS_received    110527 non-null  int64  \n",
      " 13  No-show         110527 non-null  object \n",
      "dtypes: float64(1), int64(8), object(5)\n",
      "memory usage: 11.8+ MB\n"
     ]
    }
   ],
   "source": [
    "# Display summary of data\n",
    "df.info()"
   ]
  },
  {
   "cell_type": "markdown",
   "id": "3de30801",
   "metadata": {},
   "source": [
    "- The data consists of different types such as integer, object, and float. \n",
    "- The \"PatientId\" and \"AppointmentID\" columns have incorrectly been treated as float and integers respectively where they ought to be strings. \n",
    "- The \"ScheduledDay\" and \"AppointmentDay\" would be better treated as date objects rather than mere strings.\n",
    "- \"Hipertension\" and \"Handcap\" are incorrectly named "
   ]
  },
  {
   "cell_type": "code",
   "execution_count": null,
   "id": "407e646f",
   "metadata": {},
   "outputs": [],
   "source": [
    "# display first 5 rows\n",
    "df.head()"
   ]
  },
  {
   "cell_type": "code",
   "execution_count": null,
   "id": "6eace0a3",
   "metadata": {
    "scrolled": true
   },
   "outputs": [],
   "source": [
    "# Display summary statistics for numeric columns\n",
    "df.describe()"
   ]
  },
  {
   "cell_type": "markdown",
   "id": "9bc0475f",
   "metadata": {},
   "source": [
    "### Some Key Observations\n",
    "- There are no missing values. \n",
    "- The Age column contains one or more negative values that must be handled appropriately. This will be investigated further in the next section."
   ]
  },
  {
   "cell_type": "markdown",
   "id": "34c86dc1",
   "metadata": {},
   "source": [
    "## II. Data Cleaning\n",
    "Some of the operations performed in this section are outlined below:\n",
    "- To avoid having to look up the column names too often, we shall adopt a consistent column naming convention. I make all column names to be lower case letters.\n",
    "- Perform the necessary data type casting for the relevant columns: **appointmentid** (int to str), **patientid** (float to str), **scheduledday** (object to datetime), and **appointmentday** (object to datetime). Because the patientid column is float type, it leaves a period that must be replaced by an empty string, e.g 2345678.0 to 2345678\n",
    "- Rename \"hipertension\" to \"hypertension\" and \"handcap\" to \"handicap\" \n",
    "- Also rename \"no-show\" to \"show\" and convert the values to 1s and 0s so that 1 indicates Yes while 0 indicates No (a missed appointment)"
   ]
  },
  {
   "cell_type": "code",
   "execution_count": 4,
   "id": "ace3ea3c",
   "metadata": {},
   "outputs": [],
   "source": [
    "# Rename columns to all lower case\n",
    "df.columns = df.columns.str.lower()"
   ]
  },
  {
   "cell_type": "code",
   "execution_count": 5,
   "id": "5d1360f6",
   "metadata": {},
   "outputs": [],
   "source": [
    "# Change data types \n",
    "df['patientid'] = df['patientid'].astype('str').str.replace('.0', '', regex=False)\n",
    "df['appointmentid'] = df['appointmentid'].astype('str')\n",
    "df['scheduledday'] = pd.to_datetime(df['scheduledday'])\n",
    "df['appointmentday'] = pd.to_datetime(df['appointmentday'])"
   ]
  },
  {
   "cell_type": "code",
   "execution_count": 6,
   "id": "db037cab",
   "metadata": {},
   "outputs": [],
   "source": [
    "# column renaming\n",
    "df.rename(columns={'hipertension': 'hypertension', 'handcap':'handicap'}, inplace=True)"
   ]
  },
  {
   "cell_type": "code",
   "execution_count": 7,
   "id": "ae9dc1c2",
   "metadata": {},
   "outputs": [],
   "source": [
    "# column renaming\n",
    "df.rename(columns={'no-show':'show'}, inplace=True)\n",
    "\n",
    "# 1 --> patient showed up for the appointment, 0 --> patient missed the appointment\n",
    "df['show'] = df['show'].apply(lambda x: 1 if x=='No' else 0)"
   ]
  },
  {
   "cell_type": "markdown",
   "id": "8e3242d4",
   "metadata": {},
   "source": [
    "### Examining patients with ages less than or equal to zero"
   ]
  },
  {
   "cell_type": "code",
   "execution_count": null,
   "id": "625ea092",
   "metadata": {},
   "outputs": [],
   "source": [
    "# Output data for patients with negative or zero age\n",
    "df.query('age <= 0').head()"
   ]
  },
  {
   "cell_type": "code",
   "execution_count": null,
   "id": "83de5aea",
   "metadata": {},
   "outputs": [],
   "source": [
    "# Get number of patients with ages <= 0\n",
    "print('{} patients'.format(df.query('age <= 0').shape[0]))"
   ]
  },
  {
   "cell_type": "code",
   "execution_count": null,
   "id": "05956dee",
   "metadata": {},
   "outputs": [],
   "source": [
    "df.query('age <= 0').age.value_counts()"
   ]
  },
  {
   "cell_type": "markdown",
   "id": "2a0ce1cc",
   "metadata": {},
   "source": [
    "- There are 3540 patients with ages <= 0. Only **1** patient had a negative age. This is most likely an error in data collection. This data will be dropped. \n",
    "- Patients with zero age are most likely babies below 1 year. Let's check whether babies were diagnosed with alcoholism, hypertension, and/or diabetes. This would be weird since they are only babies. If there are none, then it is safe to conclude that they are indeed babies."
   ]
  },
  {
   "cell_type": "code",
   "execution_count": null,
   "id": "aecdf70f",
   "metadata": {},
   "outputs": [],
   "source": [
    "# First drop the instance with a negative age\n",
    "df.drop(df.query('age < 0').index, axis='rows', inplace=True)"
   ]
  },
  {
   "cell_type": "markdown",
   "id": "6255e74a",
   "metadata": {},
   "source": [
    "Next extract those patients with zero age and perform necessary operations on the relevant columns."
   ]
  },
  {
   "cell_type": "code",
   "execution_count": null,
   "id": "1d52c768",
   "metadata": {},
   "outputs": [],
   "source": [
    "babies = df.query('age == 0')"
   ]
  },
  {
   "cell_type": "code",
   "execution_count": null,
   "id": "87b162f8",
   "metadata": {},
   "outputs": [],
   "source": [
    "# first sum hypertension, alcoholism, and diabetes\n",
    "babies[['hypertension', 'alcoholism', 'diabetes']].sum(axis=1)"
   ]
  },
  {
   "cell_type": "code",
   "execution_count": null,
   "id": "9f78be2d",
   "metadata": {},
   "outputs": [],
   "source": [
    "# then sum all the rows\n",
    "babies[['hypertension', 'alcoholism', 'diabetes']].sum(axis=1).sum(axis=0)"
   ]
  },
  {
   "cell_type": "markdown",
   "id": "87dec4cd",
   "metadata": {},
   "source": [
    "Since there is no patient (with age = 0) that was diagnosed with alcoholism, diabetes, or hypertension, it is safe to say that patients with zero ages were all babies below 1 year. "
   ]
  },
  {
   "cell_type": "markdown",
   "id": "d70812d2",
   "metadata": {},
   "source": [
    "### Checking for Duplicate values"
   ]
  },
  {
   "cell_type": "markdown",
   "id": "aec9fafd",
   "metadata": {},
   "source": [
    "The next cell reveals that no two rows are exactly the same. "
   ]
  },
  {
   "cell_type": "code",
   "execution_count": null,
   "id": "5d2518f8",
   "metadata": {},
   "outputs": [],
   "source": [
    "# Check for duplicate values\n",
    "sum(df.duplicated())"
   ]
  },
  {
   "cell_type": "markdown",
   "id": "bf334497",
   "metadata": {
    "cell_style": "center"
   },
   "source": [
    "But what about patient ids that are duplicated? In the dataframe below, the first 2 rows, for example, represent the same patient who had different medical appointments at Maria Ortiz and on different days. "
   ]
  },
  {
   "cell_type": "code",
   "execution_count": null,
   "id": "791b6092",
   "metadata": {},
   "outputs": [],
   "source": [
    "df[ df.duplicated(subset='patientid', keep=False)].sort_values(by='patientid').head(2)"
   ]
  },
  {
   "cell_type": "markdown",
   "id": "8d4efaee",
   "metadata": {},
   "source": [
    "I would not be dropping these rows right away as they might be useful later when exploring the research questions. "
   ]
  },
  {
   "cell_type": "markdown",
   "id": "a40dc212",
   "metadata": {},
   "source": [
    "<a id='eda'></a>\n",
    "# Exploratory Data Analysis"
   ]
  },
  {
   "cell_type": "markdown",
   "id": "06899e17",
   "metadata": {},
   "source": [
    "Let's first plot a histogram for all numeric columns in the data to get an idea of their distribution."
   ]
  },
  {
   "cell_type": "code",
   "execution_count": null,
   "id": "2fb1110f",
   "metadata": {},
   "outputs": [],
   "source": [
    "plt.figure(figsize=(14, 14))\n",
    "\n",
    "df.drop(['scheduledday', 'appointmentday'], axis='columns').hist()\n",
    "plt.tight_layout();"
   ]
  },
  {
   "cell_type": "markdown",
   "id": "ceab3856",
   "metadata": {},
   "source": [
    "## Research Question I\n",
    "> How does the proportion of those who showed up for their appointments compare with those who did not? \n",
    "\n",
    "To answer this we need to make use of the **show** column and examine the number of patients associated with both outcomes."
   ]
  },
  {
   "cell_type": "code",
   "execution_count": null,
   "id": "af5a484c",
   "metadata": {},
   "outputs": [],
   "source": [
    "# Get number of patients for each unique value\n",
    "df['show'].value_counts()"
   ]
  },
  {
   "cell_type": "markdown",
   "id": "5f85e19e",
   "metadata": {},
   "source": [
    "We can also visualize this with the aid of a pie chart that displays the proportion of patients."
   ]
  },
  {
   "cell_type": "code",
   "execution_count": null,
   "id": "a4c12692",
   "metadata": {},
   "outputs": [],
   "source": [
    "labels = ['Showed up', 'Didn\\'t show up']"
   ]
  },
  {
   "cell_type": "code",
   "execution_count": null,
   "id": "67435b0f",
   "metadata": {},
   "outputs": [],
   "source": [
    "plt.pie(df.show.value_counts(),\n",
    "        labels=labels,\n",
    "        explode=(0.2, 0.05),\n",
    "        startangle=20,\n",
    "        shadow=True,\n",
    "        autopct='%.1f%%',\n",
    "        textprops={'fontsize': 14})\n",
    "\n",
    "plt.title('Percentage of patients who showed up and who didn\\'t', fontsize=13);"
   ]
  },
  {
   "cell_type": "markdown",
   "id": "6a5a8327",
   "metadata": {},
   "source": [
    "- Thus, about **80%** of patients showed up for their appointments. Keep in mind that this includes patients who had more than one appointment. What if we were to narrow this down to patients that appear only once to be scheduled for an appointment? Would there be any change? "
   ]
  },
  {
   "cell_type": "markdown",
   "id": "147ed777",
   "metadata": {},
   "source": [
    "To do this, we will first drop the data for every patient that had more than one appointment. This is done using pandas' `drop_duplicates` method. We will not be keeping any of the duplicates. For instance, in the dataframe below we will drop the two rows relating to the patient with id 111124532532143."
   ]
  },
  {
   "cell_type": "code",
   "execution_count": null,
   "id": "6235a3e1",
   "metadata": {},
   "outputs": [],
   "source": [
    "df[ df.duplicated(subset='patientid', keep=False)].sort_values(by='patientid').head()"
   ]
  },
  {
   "cell_type": "code",
   "execution_count": null,
   "id": "18f90272",
   "metadata": {},
   "outputs": [],
   "source": [
    "df_unique_patients = df.drop_duplicates(subset='patientid', keep=False)"
   ]
  },
  {
   "cell_type": "code",
   "execution_count": null,
   "id": "f750c298",
   "metadata": {},
   "outputs": [],
   "source": [
    "plt.pie(df_unique_patients.show.value_counts(),\n",
    "        labels=labels,\n",
    "        explode=(0.2, 0.05),\n",
    "        startangle=20,\n",
    "        shadow=True,\n",
    "        autopct='%.1f%%',\n",
    "        textprops={'fontsize': 14})\n",
    "\n",
    "plt.title('Percentage of patients who showed up and who didn\\'t', fontsize=13);"
   ]
  },
  {
   "cell_type": "markdown",
   "id": "ab3fd0ee",
   "metadata": {},
   "source": [
    "- Again, just about **81%** of these patients show up for their medical appointments. This is not very different from the previous value. "
   ]
  },
  {
   "cell_type": "markdown",
   "id": "ea163638",
   "metadata": {},
   "source": [
    "## Research Question II\n",
    "> Are Females more committed to their medical appointment than males?\n",
    "\n",
    "To explore this, let's make a countplot of the number of patients by gender."
   ]
  },
  {
   "cell_type": "code",
   "execution_count": null,
   "id": "1fc28f0c",
   "metadata": {},
   "outputs": [],
   "source": [
    "sns.catplot(x='gender', kind='count', data=df_unique_patients,  order=['M', 'F'])\n",
    "\n",
    "# Set ylabel and title for plot\n",
    "plt.ylabel('Number of patients')\n",
    "plt.title('Number of Female and Male Patients', fontsize=13);"
   ]
  },
  {
   "cell_type": "markdown",
   "id": "b06df7d1",
   "metadata": {},
   "source": [
    "The above chart reveals that there are more female patients than male patients. But this does not prove that females are more committed. At best, it only tells us more females were scheduled for appointment than males. In the next chart we shall examine the proportion of females who showed up and compare this with the proportion of males who showed up to see if there is a difference. \n",
    "\n",
    "By grouping by the gender, the distribution of patients across **show** can be determined."
   ]
  },
  {
   "cell_type": "code",
   "execution_count": null,
   "id": "e57ae822",
   "metadata": {},
   "outputs": [],
   "source": [
    "df.groupby(by='gender')['show'].value_counts()"
   ]
  },
  {
   "cell_type": "markdown",
   "id": "34da85ba",
   "metadata": {},
   "source": [
    "We however want the the values 0 and 1 to be in separate columns. To do this, the `unstack` method is used. Then a row operation is performed to convert the values to proportions using `apply`. "
   ]
  },
  {
   "cell_type": "code",
   "execution_count": null,
   "id": "a13bf60a",
   "metadata": {},
   "outputs": [],
   "source": [
    "df.groupby(by='gender')['show'].value_counts().unstack()"
   ]
  },
  {
   "cell_type": "code",
   "execution_count": null,
   "id": "2d5725d7",
   "metadata": {},
   "outputs": [],
   "source": [
    "round(df.groupby(by='gender')['show'].value_counts().unstack().apply(lambda row: row/row.sum(), axis=1), 3)*100"
   ]
  },
  {
   "cell_type": "code",
   "execution_count": null,
   "id": "2e63f2f2",
   "metadata": {},
   "outputs": [],
   "source": [
    "# Group the data by gender, unstack the MultiIndex, and apply a row operation\n",
    "show_by_gender = (df.groupby(by='gender')['show'].value_counts()\n",
    "                    .unstack()\n",
    "                    .apply(lambda row: row/row.sum(), axis=1))"
   ]
  },
  {
   "cell_type": "code",
   "execution_count": null,
   "id": "948e369c",
   "metadata": {},
   "outputs": [],
   "source": [
    "# Plot the bar chart and add a y-axis label\n",
    "show_by_gender.plot(kind='bar', stacked=True, rot=False, alpha=0.8)\n",
    "plt.ylabel('Proportion of Patients')\n",
    "plt.title('Proportion of Patients who showed up and didn\\'t by gender')\n",
    "\n",
    "# Adjust the legend\n",
    "plt.legend(bbox_to_anchor=(1., 0.9), loc='center left', title='show', ncol=2);"
   ]
  },
  {
   "cell_type": "markdown",
   "id": "ff099636",
   "metadata": {},
   "source": [
    "The chart above shows that although there are more female than there are male patients, the proportion of females (**79.7%**) and males(**80%**) who showed up are very similar. Thus, it is safe to say that a patient's gender contributes very little to whether they will show up or not."
   ]
  },
  {
   "cell_type": "markdown",
   "id": "e4fe0b82",
   "metadata": {},
   "source": [
    "## Research Question III\n",
    "> Are patients more likely to miss their appointments if their appointment dates are far?\n",
    "\n",
    "Consider two patients, A and B. A's appointment day is in two days time, and B's appointment day is in 2 weeks time. Is B less likely to show up for their appointment given that their appointment day is farther?"
   ]
  },
  {
   "cell_type": "markdown",
   "id": "51531013",
   "metadata": {},
   "source": [
    "Relevant columns, namely, `scheduledday` and `appointmentday` have been parsed as datetime objects to aid my analysis. The difference between these dates is computed and stored in the `days_away` column. But before proceeding, let's examine the two columns we'll be using further. At surface level, it seems the  `scheduledday` column has time component while the `appointmentday` column does not. "
   ]
  },
  {
   "cell_type": "code",
   "execution_count": null,
   "id": "1e53bb61",
   "metadata": {},
   "outputs": [],
   "source": [
    "df[['scheduledday', 'appointmentday']].describe(datetime_is_numeric=True)"
   ]
  },
  {
   "cell_type": "markdown",
   "id": "87928f07",
   "metadata": {},
   "source": [
    "The output in the next cell is 0  which indicates the `appointmentday` column does not have time components. This must mean that the hospitals take only the day of appointment into account, and disregard the time."
   ]
  },
  {
   "cell_type": "code",
   "execution_count": null,
   "id": "e5a9f88a",
   "metadata": {},
   "outputs": [],
   "source": [
    "sum(df['appointmentday'].dt.hour)"
   ]
  },
  {
   "cell_type": "markdown",
   "id": "01123ddc",
   "metadata": {},
   "source": [
    "Likewise, there is no schedule day that has a zero time component which means the hospital records not just the day, but also the time which a schedule was made. "
   ]
  },
  {
   "cell_type": "code",
   "execution_count": null,
   "id": "83279a01",
   "metadata": {},
   "outputs": [],
   "source": [
    "df[ (df['scheduledday'].dt.hour == 0) & (df['scheduledday'].dt.minute ==0)]"
   ]
  },
  {
   "cell_type": "markdown",
   "id": "0c95dc89",
   "metadata": {},
   "source": [
    "Before we proceed we will need to `normalize` all schedule dates to midnight so that the time components are zeroed out just like `appointmentday`"
   ]
  },
  {
   "cell_type": "code",
   "execution_count": null,
   "id": "dab45c13",
   "metadata": {},
   "outputs": [],
   "source": [
    "# zero the time components in the scheduledday column\n",
    "df['scheduledday'] = df['scheduledday'].dt.normalize()"
   ]
  },
  {
   "cell_type": "code",
   "execution_count": null,
   "id": "1a78c1dd",
   "metadata": {},
   "outputs": [],
   "source": [
    "# Then determine the number of days between appointment day and the schedule day\n",
    "df['days_away'] = (df['appointmentday'] - df['scheduledday']).dt.days"
   ]
  },
  {
   "cell_type": "code",
   "execution_count": null,
   "id": "09668e87",
   "metadata": {},
   "outputs": [],
   "source": [
    "# Compute summary statistics on the new column\n",
    "df['days_away'].describe()"
   ]
  },
  {
   "cell_type": "markdown",
   "id": "ba8e06b6",
   "metadata": {},
   "source": [
    "The cell above reveals some of the days are negative, which is unexpected. Digging further, we check the number of occurrences of these instances. Output from the following cell shows that **4** patients had appointment a day before they made a schedule, while **1** patient had appointment 6 days before they were scheduled. I will be dropping these rows since there are only 5 occurrences.\n",
    "\n",
    "**Note** that it is possible the appointment day was mistaken for the scheduled day in these cases. However, one can't be too sure. "
   ]
  },
  {
   "cell_type": "code",
   "execution_count": null,
   "id": "4aa1f00c",
   "metadata": {},
   "outputs": [],
   "source": [
    "df.query('days_away < 0').days_away.value_counts()"
   ]
  },
  {
   "cell_type": "code",
   "execution_count": null,
   "id": "1f5bea32",
   "metadata": {},
   "outputs": [],
   "source": [
    "# Filter for negative days\n",
    "df.query('days_away < 0').head()"
   ]
  },
  {
   "cell_type": "code",
   "execution_count": null,
   "id": "4f5f65e3",
   "metadata": {},
   "outputs": [],
   "source": [
    "# Drop instances with negative days\n",
    "df.drop( df.query('days_away < 0').index, axis='rows', inplace=True)"
   ]
  },
  {
   "cell_type": "markdown",
   "id": "4c4541ce",
   "metadata": {},
   "source": [
    "Make a boxplot to show how the **days_away** is distributed based on the outcome of the appointment."
   ]
  },
  {
   "cell_type": "code",
   "execution_count": null,
   "id": "7bebd48c",
   "metadata": {},
   "outputs": [],
   "source": [
    "fig, ax = plt.subplots(figsize=(8, 5)) #create a figure and axis object\n",
    "\n",
    "# make a boxplot with some customizations. Ignore outliers by setting sym to an empty string\n",
    "sns.boxplot(x='show',\n",
    "            y='days_away',\n",
    "            sym='',\n",
    "            data=df,\n",
    "            ax=ax, \n",
    "            order=[1, 0]);\n",
    "\n",
    "ax.set_xticklabels(['Yes', 'No']) #Set tick labels for the x-axis\n",
    "plt.title('Distribution of Number of days away by appointment outcome');"
   ]
  },
  {
   "cell_type": "code",
   "execution_count": null,
   "id": "176b6b53",
   "metadata": {},
   "outputs": [],
   "source": [
    "df.groupby(by='show')['days_away'].median()"
   ]
  },
  {
   "cell_type": "markdown",
   "id": "d0e7c551",
   "metadata": {},
   "source": [
    "The plot clearly shows us that the median `days_away` for the patients who showed up for their appointments is much smaller than that for those who missed their appointments. In other words, 50% of those who showed up had appointment within at most 2 days of making a schedule, while 50% of those who did not show up had appointment within at most 11 days.\n",
    "\n",
    "An empirical cumulative distribution plot (ecdf) might help us visualize this even much better. A function `plot_ecdf` is created below  for reuse. "
   ]
  },
  {
   "cell_type": "code",
   "execution_count": null,
   "id": "099adbc4",
   "metadata": {},
   "outputs": [],
   "source": [
    "def plot_ecdf(series, label=None, color='blue'):\n",
    "    \"\"\"\n",
    "    Plot ecdf of a distribution\n",
    "    ---------------------------\n",
    "    Args: \n",
    "        series: a pandas series or a 1D array\n",
    "    \"\"\"\n",
    "    \n",
    "    x = np.sort(series)\n",
    "    y = np.arange(1, len(x)+1) / len(x)\n",
    "    \n",
    "    plt.plot(x, y, marker='.', linestyle='none', markersize=2, label=label, color=color)\n",
    "    \n",
    "    # set plot title\n",
    "    plt.title('ECDF plot for {}'.format(series.name))"
   ]
  },
  {
   "cell_type": "code",
   "execution_count": null,
   "id": "9c48dfa0",
   "metadata": {},
   "outputs": [],
   "source": [
    "# plot ecdf for patients who showed up\n",
    "plot_ecdf( df.query('show == 1')['days_away'], label='show', color='red')\n",
    "\n",
    "# plot ecdf for patients who didn't show up\n",
    "plot_ecdf(df.query('show == 0')['days_away'], label='no show', color='blue')\n",
    "\n",
    "plt.xlabel('Days away')\n",
    "plt.ylabel('probability')\n",
    "plt.legend(prop={'size':14}, labelcolor=['red', 'blue'])"
   ]
  },
  {
   "cell_type": "markdown",
   "id": "3b8c2477",
   "metadata": {},
   "source": [
    "- The blue points are shifted to the right more than the red points, which indicates those who did not show up tend to have farther appointment dates than those who showed up."
   ]
  },
  {
   "cell_type": "markdown",
   "id": "bacba528",
   "metadata": {},
   "source": [
    "## Research Question IV\n",
    "> Does Age affect show up? "
   ]
  },
  {
   "cell_type": "markdown",
   "id": "b1f6a9d3",
   "metadata": {},
   "source": [
    "Let's first get a feel for how the patients' ages are distributed using a histogram. Bins are created for every 10-year range. "
   ]
  },
  {
   "cell_type": "code",
   "execution_count": null,
   "id": "8a8fae55",
   "metadata": {},
   "outputs": [],
   "source": [
    "bins = np.arange(0, 120, 10)"
   ]
  },
  {
   "cell_type": "code",
   "execution_count": null,
   "id": "b4a5fb3b",
   "metadata": {},
   "outputs": [],
   "source": [
    "df.age.plot(kind='hist', bins=bins, rwidth=0.96,  xlabel='Age', ylabel='Frequency', title='Distribution of Patient Age');"
   ]
  },
  {
   "cell_type": "markdown",
   "id": "6e4b18ec",
   "metadata": {},
   "source": [
    "Let us now create age ranges and labels that we can work with. "
   ]
  },
  {
   "cell_type": "code",
   "execution_count": null,
   "id": "d4fd173e",
   "metadata": {},
   "outputs": [],
   "source": [
    "bins = [-1, 12, 17, 24, 34, 44, 54, 64, 120]\n",
    "labels = ['<=12', '13-17', '18-24', '25-34', '35-44', '45-54', '55-64', '>=65']"
   ]
  },
  {
   "cell_type": "markdown",
   "id": "d35a52a6",
   "metadata": {},
   "source": [
    "Using `pd.cut` allows us to separate the age column into age categories defined by the bins. "
   ]
  },
  {
   "cell_type": "code",
   "execution_count": null,
   "id": "02b3dcb1",
   "metadata": {},
   "outputs": [],
   "source": [
    "df['age_range'] = pd.cut(df.age, bins=bins, labels=labels)"
   ]
  },
  {
   "cell_type": "code",
   "execution_count": null,
   "id": "afda1b42",
   "metadata": {},
   "outputs": [],
   "source": [
    "df[['age', 'age_range']].head()"
   ]
  },
  {
   "cell_type": "code",
   "execution_count": null,
   "id": "526f655c",
   "metadata": {},
   "outputs": [],
   "source": [
    "# set figure size\n",
    "plt.figure(figsize=(8, 4))\n",
    "\n",
    "# customize bar chart\n",
    "df.groupby(by='age_range')['show'].mean().plot(kind='bar',\n",
    "                                               ylabel='Mean show',\n",
    "                                               title='Rate of show across age categories',\n",
    "                                               rot=False,\n",
    "                                               ylim=(0.2, 0.9));"
   ]
  },
  {
   "cell_type": "markdown",
   "id": "aab6cf3d",
   "metadata": {},
   "source": [
    "Older patients within the age range 45 and above seem to be most committed to their medical appointments. Patients below age 13 are also more committed than those between 13-17 and 18-24. \n",
    "\n",
    "If we drill down for each gender, we notice a gradual increase in the show rate from patients aged 13 and above as we move up the age range for both genders."
   ]
  },
  {
   "cell_type": "code",
   "execution_count": null,
   "id": "7850b881",
   "metadata": {},
   "outputs": [],
   "source": [
    "df.pivot_table(index='gender', columns='age_range', values='show')"
   ]
  },
  {
   "cell_type": "markdown",
   "id": "1a91e1f4",
   "metadata": {},
   "source": [
    "## Research question V\n",
    "> Does hypertension seem to be more common among older patients? "
   ]
  },
  {
   "cell_type": "markdown",
   "id": "d1b83ef4",
   "metadata": {},
   "source": [
    "To explore this we create a new dataframe that holds record of only one appointment for every unique patient. The number of unique hypertensive patients is preserved. "
   ]
  },
  {
   "cell_type": "code",
   "execution_count": null,
   "id": "fdb95ca7",
   "metadata": {},
   "outputs": [],
   "source": [
    "hyp = df.drop_duplicates(subset='patientid').query('hypertension == 1')"
   ]
  },
  {
   "cell_type": "markdown",
   "id": "942b38d5",
   "metadata": {},
   "source": [
    "The mean age of hypertensive patients is 61 years. "
   ]
  },
  {
   "cell_type": "code",
   "execution_count": null,
   "id": "342fd42b",
   "metadata": {},
   "outputs": [],
   "source": [
    "hyp.age.mean()"
   ]
  },
  {
   "cell_type": "markdown",
   "id": "101a5e95",
   "metadata": {},
   "source": [
    "Majority of those with hypertension are within the age range of 50-70 years as shown in the histogram below. "
   ]
  },
  {
   "cell_type": "code",
   "execution_count": null,
   "id": "564322d7",
   "metadata": {},
   "outputs": [],
   "source": [
    "bins = np.arange(0, 120, 10)"
   ]
  },
  {
   "cell_type": "code",
   "execution_count": null,
   "id": "b9b4f452",
   "metadata": {},
   "outputs": [],
   "source": [
    "hyp.age.plot(kind='hist',\n",
    "             rwidth=0.97,\n",
    "             bins=bins,\n",
    "             xlabel='Age',\n",
    "             ylabel='Frequency',\n",
    "             title='Age distribution for hypertensive patients');"
   ]
  },
  {
   "cell_type": "code",
   "execution_count": null,
   "id": "4e552d58",
   "metadata": {},
   "outputs": [],
   "source": [
    "# plot ecdf for age of hypertensive patients\n",
    "plot_ecdf(hyp.age)\n",
    "\n",
    "plt.xlabel('age')\n",
    "plt.ylabel('probability');"
   ]
  },
  {
   "cell_type": "markdown",
   "id": "8e344db6",
   "metadata": {},
   "source": [
    "- The ages are almost normally distributed, but not quite. \n",
    "- The mean age of hypertensive patients is 61."
   ]
  },
  {
   "cell_type": "markdown",
   "id": "ec3a1859",
   "metadata": {},
   "source": [
    "## Research question VI\n",
    "> Are older patients more at risk of being hypertensive and diabetic at the same time?"
   ]
  },
  {
   "cell_type": "markdown",
   "id": "e984a556",
   "metadata": {},
   "source": [
    "Create a new dataframe for patients with hypertension and diabetes. Then obtain the normalized respective counts for each age range. "
   ]
  },
  {
   "cell_type": "code",
   "execution_count": null,
   "id": "f43afce9",
   "metadata": {},
   "outputs": [],
   "source": [
    "hyp_diab = hyp.query('diabetes == 1').age_range.value_counts(normalize=True)"
   ]
  },
  {
   "cell_type": "code",
   "execution_count": null,
   "id": "04569fb7",
   "metadata": {},
   "outputs": [],
   "source": [
    "hyp_diab"
   ]
  },
  {
   "cell_type": "code",
   "execution_count": null,
   "id": "afe1b4d6",
   "metadata": {},
   "outputs": [],
   "source": [
    "hyp_diab.plot(kind='bar', rot=False, \n",
    "              xlabel='Age range', ylabel='Proportion', \n",
    "              title='Proportion of hypertensive and diabetic patients by age range');"
   ]
  },
  {
   "cell_type": "markdown",
   "id": "63e3253f",
   "metadata": {},
   "source": [
    "- Out of all patients with hypertension and diabetes, *48%* of them are at least 65 years of age, *30%* of them are between 55 and 64 years of age, and *15%* are between 45 and 54 years of age. The visualization shows a continuous decrease with decreasing age. \n"
   ]
  },
  {
   "cell_type": "markdown",
   "id": "3073196e",
   "metadata": {},
   "source": [
    "<a id='conclusions'></a>\n",
    "## Conclusions"
   ]
  },
  {
   "cell_type": "markdown",
   "id": "1215b863",
   "metadata": {},
   "source": [
    "1. **79.7%** of females and **80%** of males showed up for their appointments. This is a little difference and suggests that trying to predict whether a patient will show up or not based solely on their gender would not be so good. \n",
    "2. The date of appointment, as counted from the schedule date, influences the rate of show in the sense that the longer patients have to wait for their appointment, the less likely they are to show up. \n",
    "3. Older patients within the age range 45 and above seem to be most committed to their medical appointments. Patients below age 13 are also more committed than those between 13-17 and 18-24. If we drill down for each gender, we notice a gradual increase in the show rate from patients aged 13 and above as we move up the age range for both genders.\n",
    "4. Hypertension is most common amongst older patients, particularly those within the age range of 50-70 years of age. Furthermore, majority of the patients with hypertension and diabetes happen to be older patients. While this does not imply a relationship between the two variables, it does suggest that older patients are at more risk of having these health problems."
   ]
  },
  {
   "cell_type": "markdown",
   "id": "faf8b422",
   "metadata": {},
   "source": [
    "## Limitations\n",
    "\n",
    "- The reason for scheduling an appointment was not provided, thus making it hard to provide more context into  what makes some patients miss their appointments. "
   ]
  },
  {
   "cell_type": "markdown",
   "id": "c96f648a",
   "metadata": {},
   "source": [
    "## References"
   ]
  },
  {
   "cell_type": "markdown",
   "id": "ec4aad1a",
   "metadata": {},
   "source": [
    "- [Medical Appointments No Show](https://www.kaggle.com/datasets/joniarroba/noshowappointments) - data source"
   ]
  }
 ],
 "metadata": {
  "kernelspec": {
   "display_name": "Python 3 (ipykernel)",
   "language": "python",
   "name": "python3"
  },
  "language_info": {
   "codemirror_mode": {
    "name": "ipython",
    "version": 3
   },
   "file_extension": ".py",
   "mimetype": "text/x-python",
   "name": "python",
   "nbconvert_exporter": "python",
   "pygments_lexer": "ipython3",
   "version": "3.8.12"
  }
 },
 "nbformat": 4,
 "nbformat_minor": 5
}
